{
 "cells": [
  {
   "cell_type": "raw",
   "id": "24cd1d74",
   "metadata": {},
   "source": [
    "1.What is the difference between set and dictionary , Explain with the suitable example"
   ]
  },
  {
   "cell_type": "code",
   "execution_count": null,
   "id": "167100b6",
   "metadata": {},
   "outputs": [],
   "source": [
    "Set items cannot be accessed by using index\n",
    "dictionary items can be accessed by using their respective values"
   ]
  },
  {
   "cell_type": "code",
   "execution_count": 1,
   "id": "e387d7ab",
   "metadata": {},
   "outputs": [
    {
     "data": {
      "text/plain": [
       "{1, 4, 'a'}"
      ]
     },
     "execution_count": 1,
     "metadata": {},
     "output_type": "execute_result"
    }
   ],
   "source": [
    "set = {1,'a',4,True} # duplicate values are not allowed\n",
    "set"
   ]
  },
  {
   "cell_type": "code",
   "execution_count": 37,
   "id": "cbd40eb2",
   "metadata": {},
   "outputs": [
    {
     "ename": "TypeError",
     "evalue": "'set' object is not subscriptable",
     "output_type": "error",
     "traceback": [
      "\u001b[1;31m---------------------------------------------------------------------------\u001b[0m",
      "\u001b[1;31mTypeError\u001b[0m                                 Traceback (most recent call last)",
      "Cell \u001b[1;32mIn[37], line 1\u001b[0m\n\u001b[1;32m----> 1\u001b[0m \u001b[38;5;28;43mset\u001b[39;49m\u001b[43m[\u001b[49m\u001b[38;5;241;43m1\u001b[39;49m\u001b[43m]\u001b[49m\n",
      "\u001b[1;31mTypeError\u001b[0m: 'set' object is not subscriptable"
     ]
    }
   ],
   "source": [
    "set[1]"
   ]
  },
  {
   "cell_type": "code",
   "execution_count": 38,
   "id": "82ec7425",
   "metadata": {},
   "outputs": [
    {
     "name": "stdout",
     "output_type": "stream",
     "text": [
      "{'name': 'muskan', 'age': 21, 'subject': 'ML'}\n",
      "<class 'dict'>\n"
     ]
    }
   ],
   "source": [
    "d = {\"name\":\"muskan\",\n",
    "    \"age\":21,\n",
    "    \"subject\":\"ML\"}\n",
    "print(d)\n",
    "print(type(d))"
   ]
  },
  {
   "cell_type": "code",
   "execution_count": 39,
   "id": "3ab733f9",
   "metadata": {},
   "outputs": [
    {
     "data": {
      "text/plain": [
       "dict_values([[1, 2, 3], ['a', 'b', 'c'], [11, 20, 20]])"
      ]
     },
     "execution_count": 39,
     "metadata": {},
     "output_type": "execute_result"
    }
   ],
   "source": [
    "dict.values()"
   ]
  },
  {
   "cell_type": "code",
   "execution_count": 40,
   "id": "a9a80cd8",
   "metadata": {},
   "outputs": [
    {
     "data": {
      "text/plain": [
       "dict_items([('sr.no.', [1, 2, 3]), ('name', ['a', 'b', 'c']), ('roll_no.', [11, 20, 20])])"
      ]
     },
     "execution_count": 40,
     "metadata": {},
     "output_type": "execute_result"
    }
   ],
   "source": [
    "dict.items()"
   ]
  },
  {
   "cell_type": "markdown",
   "id": "f0e0d6fe",
   "metadata": {},
   "source": [
    "2.Write a program to print the following pattern \n",
    "     *\n",
    "     **\n",
    "     ***"
   ]
  },
  {
   "cell_type": "code",
   "execution_count": 7,
   "id": "e2394967",
   "metadata": {},
   "outputs": [
    {
     "name": "stdout",
     "output_type": "stream",
     "text": [
      "*\n",
      "**\n",
      "***\n"
     ]
    }
   ],
   "source": [
    "n = 3\n",
    "for i in range(n):\n",
    "    for j in range(i+1):\n",
    "        print('*',end = '')\n",
    "    print()"
   ]
  },
  {
   "cell_type": "raw",
   "id": "aadcc90e",
   "metadata": {},
   "source": [
    "3. Write a program to print n natural number in ascending order using a while loop?"
   ]
  },
  {
   "cell_type": "code",
   "execution_count": 35,
   "id": "bd441af6",
   "metadata": {},
   "outputs": [
    {
     "name": "stdout",
     "output_type": "stream",
     "text": [
      "1\n",
      "2\n",
      "3\n",
      "4\n",
      "5\n",
      "6\n",
      "7\n",
      "8\n",
      "9\n",
      "10\n"
     ]
    }
   ],
   "source": [
    "i = 1\n",
    "while(i<=10):\n",
    "    print(i)\n",
    "    i += 1"
   ]
  },
  {
   "cell_type": "raw",
   "id": "7b5de234",
   "metadata": {},
   "source": [
    "4. Write a program in Python to swap between two numbers without using a third variable"
   ]
  },
  {
   "cell_type": "code",
   "execution_count": 36,
   "id": "528453fc",
   "metadata": {},
   "outputs": [
    {
     "name": "stdout",
     "output_type": "stream",
     "text": [
      "Before swapping: \n",
      "Value of x :  5  and y :  7\n",
      "After swapping: \n",
      "Value of x :  7  and y :  5\n"
     ]
    }
   ],
   "source": [
    "x = 5\n",
    "y = 7\n",
    "print (\"Before swapping: \")\n",
    "print(\"Value of x : \", x, \" and y : \", y)\n",
    "x, y = y, x\n",
    "print (\"After swapping: \")\n",
    "print(\"Value of x : \", x, \" and y : \", y)"
   ]
  },
  {
   "cell_type": "raw",
   "id": "0c01d156",
   "metadata": {},
   "source": [
    "5. How to Create a Function with Default Arguments in Python.( Example)"
   ]
  },
  {
   "cell_type": "code",
   "execution_count": 18,
   "id": "ffd4f475",
   "metadata": {},
   "outputs": [
    {
     "name": "stdout",
     "output_type": "stream",
     "text": [
      "name: sam salary: 20000\n",
      "name: milly salary: 20000\n"
     ]
    }
   ],
   "source": [
    "def emp_info(name,salary=20000):\n",
    "    print('name:',name,'salary:',salary)\n",
    "    \n",
    "emp_info('sam')\n",
    "emp_info('milly')"
   ]
  },
  {
   "cell_type": "raw",
   "id": "96a835e6",
   "metadata": {},
   "source": [
    "6. Display a square of numbers from 1 to 10 using list comprehension."
   ]
  },
  {
   "cell_type": "code",
   "execution_count": 32,
   "id": "a7f2f644",
   "metadata": {},
   "outputs": [
    {
     "name": "stdout",
     "output_type": "stream",
     "text": [
      "square: 1\n",
      "square: 4\n",
      "square: 9\n",
      "square: 16\n",
      "square: 25\n",
      "square: 36\n",
      "square: 49\n",
      "square: 64\n",
      "square: 81\n",
      "square: 100\n"
     ]
    }
   ],
   "source": [
    "inp = [1,2,3,4,5,6,7,8,9,10]\n",
    "ol = []\n",
    "\n",
    "for i in inp:\n",
    "    if (i<=10):\n",
    "        print('square:',i*i)\n"
   ]
  },
  {
   "cell_type": "raw",
   "id": "ef531e79",
   "metadata": {},
   "source": [
    "7. What is polymorphism? Explain with example( class)"
   ]
  },
  {
   "cell_type": "raw",
   "id": "63b25642",
   "metadata": {},
   "source": [
    "polymorphism means multiple forms\n",
    "eg : + operator\n",
    "if we add two integers then two integers will be added and if we add two strings the two strings will be concatenated."
   ]
  },
  {
   "cell_type": "code",
   "execution_count": 33,
   "id": "952d6004",
   "metadata": {},
   "outputs": [
    {
     "name": "stdout",
     "output_type": "stream",
     "text": [
      "30\n"
     ]
    }
   ],
   "source": [
    "a = 10\n",
    "b = 20\n",
    "print(a+b)"
   ]
  },
  {
   "cell_type": "code",
   "execution_count": 34,
   "id": "98a74b5f",
   "metadata": {},
   "outputs": [
    {
     "name": "stdout",
     "output_type": "stream",
     "text": [
      "purple & black\n"
     ]
    }
   ],
   "source": [
    "a = 'purple & '\n",
    "b = 'black'\n",
    "print(a+b)"
   ]
  },
  {
   "cell_type": "raw",
   "id": "e166d37e",
   "metadata": {},
   "source": [
    "8. Explain conditional probability with example?"
   ]
  },
  {
   "cell_type": "raw",
   "id": "a5d489fc",
   "metadata": {},
   "source": [
    "eg : the probability of a person having lung cancer given that he smokes."
   ]
  },
  {
   "cell_type": "raw",
   "id": "c9c35a57",
   "metadata": {},
   "source": [
    "9. Explain Emphirical rule with diagram ."
   ]
  },
  {
   "cell_type": "raw",
   "id": "4e3d975a",
   "metadata": {},
   "source": [
    "        +/- SD             percentage\n",
    "           1                   68%\n",
    "           2                   95%\n",
    "           3                   99.7%\n",
    "it means 68% of the sample will fall within +/-1 standard deviation away from the mean."
   ]
  },
  {
   "cell_type": "raw",
   "id": "d945d076",
   "metadata": {},
   "source": [
    "10.What is Hypothesis Testing ? What is the Role of p value in HT?"
   ]
  },
  {
   "cell_type": "raw",
   "id": "b2ac53b2",
   "metadata": {},
   "source": [
    "suppose, H0 = person has done the murder\n",
    "         H1 = person is innocent\n",
    "p-value is the probability of null hypothesis being true        \n",
    "if p <= 0.05 then H0 will be accepted\n",
    "p-value decides whether the person is guilty or innocent"
   ]
  },
  {
   "cell_type": "raw",
   "id": "293711ca",
   "metadata": {},
   "source": [
    "Q2) List all the probability distributions with example?       "
   ]
  },
  {
   "cell_type": "raw",
   "id": "abd7484d",
   "metadata": {},
   "source": [
    "1.NORMAL DISTRIBUTION :\n",
    "eg : score of group of students in maths\n",
    "    \n",
    "2.UNIFORM DISTRIBUTION :\n",
    "eg : in rolling a dice the probability all outcomes is same i.e 1/6\n",
    "    \n",
    "3.BINOMIAL DISTRIBUTION :\n",
    "eg : flipping a coin\n",
    "     S = {H, T}\n",
    "        \n",
    "4.POISSON DISTRIBUTION :\n",
    "eg : number of emails received per hour\n",
    "    \n",
    "5.EXPONENTIAL DISTRIBUTION\n",
    "eg : the time between the arrival of two buses"
   ]
  }
 ],
 "metadata": {
  "kernelspec": {
   "display_name": "Python 3 (ipykernel)",
   "language": "python",
   "name": "python3"
  },
  "language_info": {
   "codemirror_mode": {
    "name": "ipython",
    "version": 3
   },
   "file_extension": ".py",
   "mimetype": "text/x-python",
   "name": "python",
   "nbconvert_exporter": "python",
   "pygments_lexer": "ipython3",
   "version": "3.10.9"
  }
 },
 "nbformat": 4,
 "nbformat_minor": 5
}
